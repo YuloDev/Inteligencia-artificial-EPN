{
 "cells": [
  {
   "cell_type": "code",
   "execution_count": null,
   "id": "5466c2dd-c5bb-4b25-a9f4-457d08ba9fad",
   "metadata": {},
   "outputs": [
    {
     "name": "stdout",
     "output_type": "stream",
     "text": [
      "Enter two integers and I will tell you the relationships they satisfy.\n"
     ]
    }
   ],
   "source": [
    "run fig02_01.py"
   ]
  },
  {
   "cell_type": "code",
   "execution_count": null,
   "id": "ce721e67-ab6b-4ed1-87b2-42f9d5dc7d3c",
   "metadata": {},
   "outputs": [],
   "source": []
  }
 ],
 "metadata": {
  "kernelspec": {
   "display_name": "Python 3 (ipykernel)",
   "language": "python",
   "name": "python3"
  },
  "language_info": {
   "codemirror_mode": {
    "name": "ipython",
    "version": 3
   },
   "file_extension": ".py",
   "mimetype": "text/x-python",
   "name": "python",
   "nbconvert_exporter": "python",
   "pygments_lexer": "ipython3",
   "version": "3.9.13"
  }
 },
 "nbformat": 4,
 "nbformat_minor": 5
}
