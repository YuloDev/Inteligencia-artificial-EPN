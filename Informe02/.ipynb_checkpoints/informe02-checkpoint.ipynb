{
 "cells": [
  {
   "cell_type": "markdown",
   "id": "ab6fee1b-10d4-495e-a698-30376a3db18e",
   "metadata": {
    "tags": []
   },
   "source": [
    "# ESCUELA POLITÉCNICA NACIONAL \n",
    "## FACULTAD DE INGENIERÍA EN SISTEMAS \n",
    "### Inteligencia Artificial y aprendizaje automático\n",
    "\n",
    "**Estudiante:** Rafael Alexander Piedra Granda \n",
    "\n",
    "**Docente:** Dra. Lorena Recalde\n"
   ]
  },
  {
   "cell_type": "code",
   "execution_count": 8,
   "id": "0ab11e07-8b76-498a-bcf4-aabdcfdaaedc",
   "metadata": {},
   "outputs": [
    {
     "ename": "ZeroDivisionError",
     "evalue": "division by zero",
     "output_type": "error",
     "traceback": [
      "\u001b[1;31m---------------------------------------------------------------------------\u001b[0m",
      "\u001b[1;31mZeroDivisionError\u001b[0m                         Traceback (most recent call last)",
      "\u001b[1;32m~\\AppData\\Local\\Temp\\ipykernel_4000\\3032757651.py\u001b[0m in \u001b[0;36m<module>\u001b[1;34m\u001b[0m\n\u001b[0;32m      7\u001b[0m \u001b[1;33m\u001b[0m\u001b[0m\n\u001b[0;32m      8\u001b[0m \u001b[1;31m# c) 10/0\u001b[0m\u001b[1;33m\u001b[0m\u001b[1;33m\u001b[0m\u001b[0m\n\u001b[1;32m----> 9\u001b[1;33m \u001b[1;36m10\u001b[0m\u001b[1;33m/\u001b[0m\u001b[1;36m0\u001b[0m\u001b[1;33m\u001b[0m\u001b[1;33m\u001b[0m\u001b[0m\n\u001b[0m\u001b[0;32m     10\u001b[0m \u001b[1;33m\u001b[0m\u001b[0m\n\u001b[0;32m     11\u001b[0m \u001b[1;31m# d) 10 // 0\u001b[0m\u001b[1;33m\u001b[0m\u001b[1;33m\u001b[0m\u001b[0m\n",
      "\u001b[1;31mZeroDivisionError\u001b[0m: division by zero"
     ]
    }
   ],
   "source": [
    "# 1. Usando Jupyter Lab, ejecute las siguientes expresiones. ¿Qué hacen los dos operadores? ¿Cuáles producen un error de tiempo de ejecución y qué significa el error?\n",
    "#a) 10/3\n",
    "10/3\n",
    "\n",
    "# b) 10 // 3\n",
    "10 // 3\n",
    "\n",
    "# c) 10/0\n",
    "10/0\n",
    "\n",
    "# d) 10 // 0\n",
    "10 // 0\n",
    "\n",
    "# e) 0/10\n",
    "0/10\n",
    "\n",
    "# f) 0 // 10\n",
    "0 // 10\n"
   ]
  },
  {
   "cell_type": "markdown",
   "id": "90647296-9d52-4b3b-ba24-19a3bcf0eff7",
   "metadata": {},
   "source": [
    "El operador \"/\" permite realizar una división entre dos operandos, por otro lado el operador \"//\" permite realizar una división con un resultado entero rendondeado al inmediato inferior.\n",
    "Los literales c) y d) producen un error de ejecución, en este caso al intentar realizar una división por cero."
   ]
  },
  {
   "cell_type": "code",
   "execution_count": null,
   "id": "1ddb8342-e3b1-4ff6-9526-24b3e829a257",
   "metadata": {},
   "outputs": [],
   "source": []
  }
 ],
 "metadata": {
  "kernelspec": {
   "display_name": "Python 3 (ipykernel)",
   "language": "python",
   "name": "python3"
  },
  "language_info": {
   "codemirror_mode": {
    "name": "ipython",
    "version": 3
   },
   "file_extension": ".py",
   "mimetype": "text/x-python",
   "name": "python",
   "nbconvert_exporter": "python",
   "pygments_lexer": "ipython3",
   "version": "3.9.13"
  }
 },
 "nbformat": 4,
 "nbformat_minor": 5
}
