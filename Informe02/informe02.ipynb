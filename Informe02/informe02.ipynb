{
 "cells": [
  {
   "cell_type": "markdown",
   "id": "ab6fee1b-10d4-495e-a698-30376a3db18e",
   "metadata": {
    "tags": []
   },
   "source": [
    "<div style=\"text-align:center\">\n",
    "    <h1> ESCUELA POLITÉCNICA NACIONAL </h1>\n",
    "    <h2> FACULTAD DE INGENIERÍA EN SISTEMAS</h2>\n",
    "    <h3> Inteligencia Artificial y aprendizaje automático </h3>\n",
    "    <h4>Docente: Dra. Lorena Recalde </h4>\n",
    "\n",
    "</div>\n"
   ]
  },
  {
   "cell_type": "code",
   "execution_count": 7,
   "id": "0ab11e07-8b76-498a-bcf4-aabdcfdaaedc",
   "metadata": {},
   "outputs": [
    {
     "name": "stdout",
     "output_type": "stream",
     "text": [
      "ZeroDivisionError('division by zero')\n"
     ]
    }
   ],
   "source": [
    "# 1. Usando Jupyter Lab, ejecute las siguientes expresiones. ¿Qué hacen los dos operadores? ¿Cuáles producen un error de tiempo de ejecución y qué significa el error?\n",
    "try:\n",
    "    10/3\n",
    "\n",
    "    10 // 3\n",
    "\n",
    "    10/0\n",
    "\n",
    "    10 // 0\n",
    "    \n",
    "    0/10\n",
    "    \n",
    "    0 // 10\n",
    "except Exception as e:\n",
    "    print(repr(e))"
   ]
  },
  {
   "cell_type": "markdown",
   "id": "90647296-9d52-4b3b-ba24-19a3bcf0eff7",
   "metadata": {},
   "source": [
    "El operador \"/\" permite realizar una división entre dos operandos, por otro lado el operador \"//\" permite realizar una división con un resultado entero rendondeado al inmediato inferior.\n",
    "\n",
    "Los literales c) y d) producen un error de ejecución, en este caso al intentar realizar una división por cero."
   ]
  },
  {
   "cell_type": "code",
   "execution_count": 6,
   "id": "1ddb8342-e3b1-4ff6-9526-24b3e829a257",
   "metadata": {},
   "outputs": [
    {
     "name": "stdout",
     "output_type": "stream",
     "text": [
      "ZeroDivisionError('division by zero')\n"
     ]
    }
   ],
   "source": [
    "#2. Usando Jupyter Lab, ejecute las siguientes expresiones. ¿Cuál es la prioridad de ejecución entre los operadores? ¿Cuáles producen un error de tiempo de ejecución?\n",
    "try:\n",
    "    10 / 3 + 7\n",
    "\n",
    "    10 // 3 + 7\n",
    "\n",
    "    10 / (3 + 7)\n",
    "\n",
    "    10 / 3 - 3\n",
    "\n",
    "    10 / (3 - 3)\n",
    "except Exception as e:\n",
    "    print(repr(e))\n"
   ]
  },
  {
   "cell_type": "markdown",
   "id": "57feea2b-e343-4128-a030-d2006410a8d5",
   "metadata": {},
   "source": [
    "La prioridad de las operaciones aritméticas en python ordenadas de menor a mayor es la siguiente: \n",
    "| Prioridad | Operaciones | Descripción |\n",
    "|-----------|-----------|-------------|\n",
    "|    1      | +, -       | Adición y sustracción|\n",
    "|    2      | *, /, %    | Multiplicación, división y toma del resto|\n",
    "|    3      | +x, -x     | Signo|\n",
    "\n",
    "\n",
    "\n",
    "Los literales c) y d) producen un error de ejecución al intentar realizar una división por cero."
   ]
  },
  {
   "cell_type": "markdown",
   "id": "b55796f0-dd3b-44c1-b345-a0b6bda92602",
   "metadata": {},
   "source": [
    "3. Crear celdas Markdown (se puede guiar con: https://www.markdownguide.org/cheat-sheet/)\n",
    "\n",
    "• Celda 1 (representada como Markdown): el título debe ser \"Mi Jupyter Notebook – Clase 1\", en estilo de encabezado H1. El título no necesita estar centrado.\n",
    "\n",
    "• Celda 2 (presentada como Markdown): incluya su nombre en negrita. En la línea debajo de su nombre, escriba su ocupación actual o deseada en letra normal.\n",
    "\n",
    "• Celda 3 (representada como Markdown): en formato de cursiva, escriba una o dos oraciones sobre por qué está interesado en la analítica de datos.\n",
    "\n",
    "• Celda 4 (representada como Markdown): en estilo de encabezado H3, explique en una oración corta lo que se supone que debe hacer su código en la celda 5.\n",
    "\n",
    "• Celda 5 (celda de código): Su código, como se describe en la Celda 4. Debe ejecutarse y mostrar una salida. Trate de mantener el código simple (incluso puede ser \"1 + 1\").\n",
    "\n",
    "• Celda 6 (representada como Markdown): esta celda debe incluir al menos 3 de los siguientes: línea horizontal, lista con viñetas, lista numerada, tablas, hipervínculos, imágenes, resaltado de código/sintaxis, comillas bloqueadas (blockquote), tachado."
   ]
  },
  {
   "cell_type": "markdown",
   "id": "8e58a6bc-78b0-4d5f-a956-2bc6c998d35f",
   "metadata": {},
   "source": [
    "# Mi Jupyter Notebook – Clase 1"
   ]
  },
  {
   "cell_type": "markdown",
   "id": "d1bd4aa3-83a8-473a-851a-941367d756eb",
   "metadata": {},
   "source": [
    "**Rafael Piedra**\n",
    "\n",
    "Soy estudiante de ing. de software en la Escuela Politécnica Nacional\n"
   ]
  },
  {
   "cell_type": "markdown",
   "id": "30e99837-7352-4a29-bbee-e6ac0203f67b",
   "metadata": {},
   "source": [
    "*La analítica de datos es un área de las ciencias de la computación que permite extraer valor de la información almacenada en los sistemas que desarrollamos día a día. Permite mejorar la experiencia de los usuarios, dandoles una experiencia personalizada.*"
   ]
  },
  {
   "cell_type": "markdown",
   "id": "29f47f6c-3478-4f13-9a5a-ad44cc836990",
   "metadata": {},
   "source": [
    "### El siguiente código permite obtener un elemento aleatorio de un arreglo"
   ]
  },
  {
   "cell_type": "code",
   "execution_count": 24,
   "id": "eabbde10-dd55-4b19-af39-28b1aeac8c81",
   "metadata": {},
   "outputs": [
    {
     "name": "stdout",
     "output_type": "stream",
     "text": [
      "Elemento aleatorio: f\n"
     ]
    }
   ],
   "source": [
    "import random\n",
    "arreglo = ['r' , 'a' , 'f' , 'a']\n",
    "elemento_aleatorio = random.choice(arreglo)\n",
    "print('Elemento aleatorio: ' + elemento_aleatorio)"
   ]
  },
  {
   "cell_type": "markdown",
   "id": "f27bc368-3138-4d1d-ae49-5fdf9335d18a",
   "metadata": {},
   "source": [
    "Lista de framerwoks de python: \n",
    "- Django \n",
    "- Fast api\n",
    "- Flask\n",
    "> \"Si puedes imaginarlo puedes programarlo\" \n",
    "\n",
    "| Estudiante |    Universidad |\n",
    "| ----------- | ----------- |\n",
    "| Rafael Piedra | Escuela Politécnica Nacional |\n"
   ]
  }
 ],
 "metadata": {
  "kernelspec": {
   "display_name": "Python 3 (ipykernel)",
   "language": "python",
   "name": "python3"
  },
  "language_info": {
   "codemirror_mode": {
    "name": "ipython",
    "version": 3
   },
   "file_extension": ".py",
   "mimetype": "text/x-python",
   "name": "python",
   "nbconvert_exporter": "python",
   "pygments_lexer": "ipython3",
   "version": "3.9.13"
  }
 },
 "nbformat": 4,
 "nbformat_minor": 5
}
